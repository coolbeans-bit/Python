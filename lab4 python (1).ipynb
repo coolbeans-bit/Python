{
 "cells": [
  {
   "cell_type": "markdown",
   "id": "e357ce5f-c1b8-4c9e-b2bd-4f2c8e5c94fc",
   "metadata": {},
   "source": [
    "### Lab 4\n",
    "### Sidddhi Subhedar\n",
    "### PRN : 1262240621"
   ]
  },
  {
   "cell_type": "code",
   "execution_count": 2,
   "id": "edec9a98-d0ff-4825-a942-1b3e29d646aa",
   "metadata": {},
   "outputs": [
    {
     "name": "stdout",
     "output_type": "stream",
     "text": [
      "Element After Sorting List in Ascending Order is :  [1, 2, 9, 10, 65, 80, 100, 298, 483, 9213, 49876]\n"
     ]
    }
   ],
   "source": [
    "List=[100,10,1,298,65,483,49876,2,80,9,9213]\n",
    "\n",
    "for i in range (len(List)-1):\n",
    "    for j in range(0, (len(List)-1-i)):\n",
    "        if(List[j] > List[j+1]):\n",
    "            temp = List[j]\n",
    "            List[j] = List[j+1]\n",
    "            List[j+1] = temp\n",
    "\n",
    "print(\"Element After Sorting List in Ascending Order is : \", List)"
   ]
  },
  {
   "cell_type": "code",
   "execution_count": 4,
   "id": "af12b56e-cf23-4ca9-a128-dd2577397b2d",
   "metadata": {},
   "outputs": [
    {
     "name": "stdout",
     "output_type": "stream",
     "text": [
      "[1, 2, 3, 4, 5, 6, 7, 8, 9, 11, 20]\n"
     ]
    },
    {
     "data": {
      "text/plain": [
       "[1, 2, 3, 4, 5, 6, 7, 8, 9, 11, 20, 22, 25, 27, 28]"
      ]
     },
     "execution_count": 4,
     "metadata": {},
     "output_type": "execute_result"
    }
   ],
   "source": [
    "a=[1,2,5,7,9,11,20]\n",
    "b=[3,4,6,8,22,25,27,28]\n",
    "\n",
    "re = []\n",
    "i = 0\n",
    "j = 0\n",
    "\n",
    "while (i < len(a)) and (j < len(b)):\n",
    "    if a[i] < b[j]:\n",
    "        re.append(a[i])\n",
    "        i +=1\n",
    "    else:\n",
    "        re.append(b[j])\n",
    "        j += 1\n",
    "        \n",
    "        \n",
    "print(re)\n",
    "# print(i)\n",
    "# print(j)\n",
    "\n",
    "re + a[i:] + b[j:]"
   ]
  },
  {
   "cell_type": "code",
   "execution_count": 10,
   "id": "719d7989-790d-47b4-ab49-d4c846bfc5b9",
   "metadata": {},
   "outputs": [],
   "source": [
    "def adder():\n",
    "    print(2+30)"
   ]
  },
  {
   "cell_type": "code",
   "execution_count": 12,
   "id": "fca926a2-fb63-4cf9-899b-7449f4e3437b",
   "metadata": {},
   "outputs": [
    {
     "name": "stdout",
     "output_type": "stream",
     "text": [
      "32\n",
      "32\n",
      "32\n",
      "32\n",
      "32\n",
      "32\n",
      "32\n"
     ]
    }
   ],
   "source": [
    "adder()\n",
    "adder()\n",
    "adder()\n",
    "adder()\n",
    "adder()\n",
    "adder()\n",
    "adder()"
   ]
  },
  {
   "cell_type": "code",
   "execution_count": 14,
   "id": "72f4a22d-25d3-4d63-a308-f6d56c4e044a",
   "metadata": {},
   "outputs": [],
   "source": [
    "def adder(x , y):\n",
    "    print(x+y)"
   ]
  },
  {
   "cell_type": "code",
   "execution_count": 22,
   "id": "f0019453-52fd-4b28-840f-1fe1d627b6f8",
   "metadata": {},
   "outputs": [
    {
     "name": "stdout",
     "output_type": "stream",
     "text": [
      "21\n",
      "20\n",
      "2070\n"
     ]
    }
   ],
   "source": [
    "adder(1 , 20)\n",
    "adder(20 , 0)\n",
    "adder('20' , '70')"
   ]
  },
  {
   "cell_type": "code",
   "execution_count": 24,
   "id": "b2755cd8-cfb1-4638-9fc8-76ee2049a7e1",
   "metadata": {},
   "outputs": [],
   "source": [
    "def palindrom(x):\n",
    "    if x == x[::-1]:\n",
    "        print('Palindrom')\n",
    "    else:\n",
    "        print('Not a palindrom')"
   ]
  },
  {
   "cell_type": "code",
   "execution_count": 26,
   "id": "2dcf6cad-e0da-437d-90fa-7b428320be01",
   "metadata": {},
   "outputs": [
    {
     "name": "stdout",
     "output_type": "stream",
     "text": [
      "Palindrom\n",
      "Not a palindrom\n"
     ]
    }
   ],
   "source": [
    "palindrom('level')\n",
    "palindrom('python')"
   ]
  },
  {
   "cell_type": "code",
   "execution_count": 28,
   "id": "30916f4d-a9ed-4e16-8cd4-38e4e28401bf",
   "metadata": {},
   "outputs": [
    {
     "name": "stdout",
     "output_type": "stream",
     "text": [
      "Name xyz\n",
      "Salary 45646\n",
      "Age 32\n"
     ]
    }
   ],
   "source": [
    "\n",
    "def emp_info(emp_name , emp_salary , emp_age):\n",
    "    print('Name' , emp_name)\n",
    "    print('Salary' , emp_salary)\n",
    "    print('Age' , emp_age)\n",
    "    \n",
    "    \n",
    "emp_info('xyz' , 45646 , 32)"
   ]
  },
  {
   "cell_type": "code",
   "execution_count": 30,
   "id": "11fa98bd-85a6-4301-b814-3f521720c16e",
   "metadata": {},
   "outputs": [
    {
     "name": "stdout",
     "output_type": "stream",
     "text": [
      "Name xyz\n",
      "Salary 45646\n",
      "Age 32\n"
     ]
    }
   ],
   "source": [
    "def emp_info(emp_name , emp_salary , emp_age):\n",
    "    print('Name' , emp_name)\n",
    "    print('Salary' , emp_salary)\n",
    "    print('Age' , emp_age)\n",
    "    \n",
    "    \n",
    "emp_info( emp_salary= 45646 ,emp_name = 'xyz' , emp_age= 32)"
   ]
  },
  {
   "cell_type": "code",
   "execution_count": 32,
   "id": "0dbb93f8-e251-452d-984d-0868cc5544da",
   "metadata": {},
   "outputs": [
    {
     "name": "stdout",
     "output_type": "stream",
     "text": [
      "Name xyz\n",
      "Salary 56464565\n",
      "Age 65\n"
     ]
    }
   ],
   "source": [
    "def emp_info(emp_name , emp_salary , emp_age):\n",
    "    print('Name' , emp_name)\n",
    "    print('Salary' , emp_salary)\n",
    "    print('Age' , emp_age)\n",
    "    \n",
    "    \n",
    "emp_info('xyz' ,emp_age= 65,emp_salary= 56464565)"
   ]
  },
  {
   "cell_type": "code",
   "execution_count": 34,
   "id": "1bac35da-e725-4666-9323-1d7231c1c0dc",
   "metadata": {},
   "outputs": [
    {
     "name": "stdout",
     "output_type": "stream",
     "text": [
      "Name xyz\n",
      "Salary 54\n",
      "Age 56464565\n"
     ]
    }
   ],
   "source": [
    "def emp_info(emp_name , emp_salary , emp_age):\n",
    "    print('Name' , emp_name)\n",
    "    print('Salary' , emp_salary)\n",
    "    print('Age' , emp_age)\n",
    "    \n",
    "    \n",
    "emp_info('xyz' ,54,emp_age= 56464565)"
   ]
  },
  {
   "cell_type": "code",
   "execution_count": 36,
   "id": "945fef26-e578-40f8-9146-1774ab3f6cca",
   "metadata": {},
   "outputs": [
    {
     "name": "stdout",
     "output_type": "stream",
     "text": [
      "Name xyz\n",
      "Salary 4534534\n",
      "Age 65\n",
      "emp_loc GOA\n",
      "emp_pin 3243\n"
     ]
    }
   ],
   "source": [
    "def emp_info(emp_name , emp_salary , emp_age , emp_loc = 'GOA' , emp_pin = 3243):\n",
    "    print('Name' , emp_name)\n",
    "    print('Salary' , emp_salary)\n",
    "    print('Age' , emp_age)\n",
    "    print('emp_loc' , emp_loc)\n",
    "    print('emp_pin' , emp_pin)\n",
    "    \n",
    "    \n",
    "emp_info('xyz' ,4534534,65)"
   ]
  },
  {
   "cell_type": "code",
   "execution_count": 38,
   "id": "4f413195-f9ca-475c-b0f9-a0f291729342",
   "metadata": {},
   "outputs": [
    {
     "name": "stdout",
     "output_type": "stream",
     "text": [
      "Name xyz\n",
      "Salary 4534534\n",
      "Age 65\n",
      "emp_loc Bangalore\n",
      "emp_pin 45646\n"
     ]
    }
   ],
   "source": [
    "def emp_info(emp_name , emp_salary , emp_age , emp_loc = 'GOA' , emp_pin = 3243):\n",
    "    print('Name' , emp_name)\n",
    "    print('Salary' , emp_salary)\n",
    "    print('Age' , emp_age)\n",
    "    print('emp_loc' , emp_loc)\n",
    "    print('emp_pin' , emp_pin)\n",
    "    \n",
    "    \n",
    "emp_info('xyz' ,4534534,65 , 'Bangalore' , 45646)"
   ]
  },
  {
   "cell_type": "code",
   "execution_count": 40,
   "id": "7c6c4154-188b-4613-bc3f-51a8455686b1",
   "metadata": {},
   "outputs": [
    {
     "name": "stdout",
     "output_type": "stream",
     "text": [
      "Name xyz\n",
      "Salary 4534534\n",
      "Age 65\n",
      "emp_loc GOA\n",
      "emp_pin 45646\n"
     ]
    }
   ],
   "source": [
    "def emp_info(emp_name , emp_salary , emp_age , emp_loc = 'GOA' , emp_pin = 3243):\n",
    "    print('Name' , emp_name)\n",
    "    print('Salary' , emp_salary)\n",
    "    print('Age' , emp_age)\n",
    "    print('emp_loc' , emp_loc)\n",
    "    print('emp_pin' , emp_pin)\n",
    "    \n",
    "    \n",
    "emp_info('xyz' ,4534534,65 ,emp_pin=  45646)"
   ]
  },
  {
   "cell_type": "code",
   "execution_count": 42,
   "id": "ce0c9880-623e-4849-95a7-71c1517d9c7c",
   "metadata": {},
   "outputs": [],
   "source": [
    "def adder(x , y):\n",
    "    return x+y"
   ]
  },
  {
   "cell_type": "code",
   "execution_count": 44,
   "id": "43378e9e-aa6c-4e3d-804a-77684a4b63fc",
   "metadata": {},
   "outputs": [
    {
     "data": {
      "text/plain": [
       "30"
      ]
     },
     "execution_count": 44,
     "metadata": {},
     "output_type": "execute_result"
    }
   ],
   "source": [
    "adder(10,20)"
   ]
  },
  {
   "cell_type": "code",
   "execution_count": 46,
   "id": "d6d3bdcf-9af3-402d-899a-b6f54888d30d",
   "metadata": {},
   "outputs": [],
   "source": [
    "def adder(*args):\n",
    "    print(sum(args))\n",
    "    print(args , type(args))"
   ]
  },
  {
   "cell_type": "code",
   "execution_count": 48,
   "id": "772107a3-3b61-4fba-8f6c-94c16a43ce30",
   "metadata": {},
   "outputs": [
    {
     "name": "stdout",
     "output_type": "stream",
     "text": [
      "60\n",
      "(10, 20, 30) <class 'tuple'>\n"
     ]
    }
   ],
   "source": [
    "adder(10,20,30)"
   ]
  },
  {
   "cell_type": "code",
   "execution_count": 50,
   "id": "7e1aa148-d165-4441-8255-85ace4f1391a",
   "metadata": {},
   "outputs": [],
   "source": [
    "def adder(**kwargs):\n",
    "    print(kwargs , type(kwargs))"
   ]
  },
  {
   "cell_type": "code",
   "execution_count": 52,
   "id": "11b0230b-72a3-40c2-882a-2fbbeeb9c62d",
   "metadata": {},
   "outputs": [
    {
     "name": "stdout",
     "output_type": "stream",
     "text": [
      "{'name': 'xyz', 'salary': 67467, 'age': 8} <class 'dict'>\n"
     ]
    }
   ],
   "source": [
    "adder(name = 'xyz' , salary = 67467 , age = 8)"
   ]
  },
  {
   "cell_type": "code",
   "execution_count": 54,
   "id": "c74ede9b-5c03-46ff-965c-3f4c2be49035",
   "metadata": {},
   "outputs": [
    {
     "data": {
      "text/plain": [
       "{'name': 'xyz', 'salary': 67467, 'age': 8}"
      ]
     },
     "execution_count": 54,
     "metadata": {},
     "output_type": "execute_result"
    }
   ],
   "source": [
    "dict(name = 'xyz' , salary = 67467 , age = 8)"
   ]
  },
  {
   "cell_type": "code",
   "execution_count": 56,
   "id": "f810da44-95cb-4b67-b176-7fb18765824d",
   "metadata": {},
   "outputs": [],
   "source": [
    "def adder(*args , **kwargs):\n",
    "    print(args , type(args))\n",
    "    print(kwargs , type(kwargs))"
   ]
  },
  {
   "cell_type": "code",
   "execution_count": 58,
   "id": "35ddbd04-1c52-4f07-8d6c-104a9b6dd0f1",
   "metadata": {},
   "outputs": [
    {
     "name": "stdout",
     "output_type": "stream",
     "text": [
      "(34, 5, 656, 7, 87) <class 'tuple'>\n",
      "{'name': 'xyz', 'salary': 67467, 'age': 8} <class 'dict'>\n"
     ]
    }
   ],
   "source": [
    "adder(34,5,656,7,87,name = 'xyz' , salary = 67467 , age = 8 )"
   ]
  },
  {
   "cell_type": "code",
   "execution_count": 60,
   "id": "2370dffd-28f7-4317-8949-302a9f0f2a9f",
   "metadata": {},
   "outputs": [],
   "source": [
    "def adder(x , *args , **kwargs):\n",
    "    print(x)\n",
    "    print(args , type(args))\n",
    "    print(kwargs , type(kwargs))"
   ]
  },
  {
   "cell_type": "code",
   "execution_count": 62,
   "id": "4d178f41-55db-4854-9514-4e0d55c3854a",
   "metadata": {},
   "outputs": [
    {
     "name": "stdout",
     "output_type": "stream",
     "text": [
      "10\n",
      "(233, 34, 4, 546) <class 'tuple'>\n",
      "{} <class 'dict'>\n"
     ]
    }
   ],
   "source": [
    "adder(10 , 233,34,4,546)"
   ]
  },
  {
   "cell_type": "code",
   "execution_count": null,
   "id": "7d501aa3-ad9c-4669-83e6-215f49b85f0e",
   "metadata": {},
   "outputs": [],
   "source": []
  },
  {
   "cell_type": "code",
   "execution_count": null,
   "id": "6b712863-4fb5-4588-b279-fa2192c5cc28",
   "metadata": {},
   "outputs": [],
   "source": []
  }
 ],
 "metadata": {
  "kernelspec": {
   "display_name": "Python 3 (ipykernel)",
   "language": "python",
   "name": "python3"
  },
  "language_info": {
   "codemirror_mode": {
    "name": "ipython",
    "version": 3
   },
   "file_extension": ".py",
   "mimetype": "text/x-python",
   "name": "python",
   "nbconvert_exporter": "python",
   "pygments_lexer": "ipython3",
   "version": "3.11.7"
  },
  "widgets": {
   "application/vnd.jupyter.widget-state+json": {
    "state": {},
    "version_major": 2,
    "version_minor": 0
   }
  }
 },
 "nbformat": 4,
 "nbformat_minor": 5
}
