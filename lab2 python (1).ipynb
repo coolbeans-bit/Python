{
 "cells": [
  {
   "cell_type": "markdown",
   "id": "070cd4f2-1967-4d21-9ba9-8c732ed17b97",
   "metadata": {},
   "source": [
    "### Lab 2\n",
    "### Siddhi Subhedar\n",
    "### PRN : 1262240621"
   ]
  },
  {
   "cell_type": "code",
   "execution_count": 3,
   "id": "c98429bf-0e31-4a9b-accc-57d58b3a1487",
   "metadata": {},
   "outputs": [
    {
     "name": "stdout",
     "output_type": "stream",
     "text": [
      "Python\n"
     ]
    }
   ],
   "source": [
    "a = 10\n",
    "b = 20\n",
    "\n",
    "if a < b:\n",
    "    print('Python')  # Prints because condition is True\n",
    "else:\n",
    "    print('Big data')\n"
   ]
  },
  {
   "cell_type": "code",
   "execution_count": 5,
   "id": "499b740f-69d0-489a-a4a6-ea80fee9c8ea",
   "metadata": {},
   "outputs": [
    {
     "name": "stdout",
     "output_type": "stream",
     "text": [
      "Hello world\n"
     ]
    }
   ],
   "source": [
    "re = 'SQL' if 10 > 20 else 'Pyspark' if 30 < 20 else 'Hello world'\n",
    "print(re)\n"
   ]
  },
  {
   "cell_type": "code",
   "execution_count": 7,
   "id": "01c136ed-5b96-49b3-8213-15dbc126fa45",
   "metadata": {},
   "outputs": [
    {
     "name": "stdout",
     "output_type": "stream",
     "text": [
      "Enter a op what?\n",
      "Enter an operator:  =\n"
     ]
    },
    {
     "name": "stdout",
     "output_type": "stream",
     "text": [
      "Invalid\n"
     ]
    }
   ],
   "source": [
    "n1=1\n",
    "n2=2\n",
    "op = input('Enter a op')\n",
    "dictop = {\n",
    "    '+': n1 + n2,\n",
    "    '-': n1 - n2,\n",
    "    '*': n1 * n2,\n",
    "    '/': n1 / n2,\n",
    "}\n",
    "op = input(\"Enter an operator: \")\n",
    "if op in dictop:\n",
    "    print(dictop[op])\n",
    "else:\n",
    "    print('Invalid')"
   ]
  },
  {
   "cell_type": "code",
   "execution_count": null,
   "id": "59ef6b23-65b3-4547-8ce6-724a0ef4c181",
   "metadata": {},
   "outputs": [],
   "source": []
  }
 ],
 "metadata": {
  "kernelspec": {
   "display_name": "Python 3 (ipykernel)",
   "language": "python",
   "name": "python3"
  },
  "language_info": {
   "codemirror_mode": {
    "name": "ipython",
    "version": 3
   },
   "file_extension": ".py",
   "mimetype": "text/x-python",
   "name": "python",
   "nbconvert_exporter": "python",
   "pygments_lexer": "ipython3",
   "version": "3.11.7"
  },
  "widgets": {
   "application/vnd.jupyter.widget-state+json": {
    "state": {},
    "version_major": 2,
    "version_minor": 0
   }
  }
 },
 "nbformat": 4,
 "nbformat_minor": 5
}
