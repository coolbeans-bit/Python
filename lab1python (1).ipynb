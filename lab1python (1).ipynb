{
 "cells": [
  {
   "cell_type": "markdown",
   "id": "e31afd7b-6de4-4b10-99da-1c79d8540579",
   "metadata": {},
   "source": [
    "### Lab 1\n",
    "### siddhi subhedar\n",
    "### PRN : 1262240621"
   ]
  },
  {
   "cell_type": "code",
   "execution_count": 2,
   "id": "4e83e034-8145-40b6-badd-27bcc68f02ef",
   "metadata": {},
   "outputs": [
    {
     "name": "stdout",
     "output_type": "stream",
     "text": [
      "Hello World! I Don't Give a Bug\n"
     ]
    }
   ],
   "source": [
    "# Printing basics\n",
    "print(\"Hello World! I Don't Give a Bug\")"
   ]
  },
  {
   "cell_type": "code",
   "execution_count": 4,
   "id": "60a5c4c4-2fb9-4285-b480-00e5ff1b3670",
   "metadata": {},
   "outputs": [
    {
     "name": "stdout",
     "output_type": "stream",
     "text": [
      "Sura\n"
     ]
    }
   ],
   "source": [
    "# Variable examples\n",
    "name = \"Sura\"\n",
    "print(name)"
   ]
  },
  {
   "cell_type": "code",
   "execution_count": 6,
   "id": "a5fbf6a7-b96c-4bac-925e-51b550a0bc8a",
   "metadata": {},
   "outputs": [
    {
     "name": "stdout",
     "output_type": "stream",
     "text": [
      "45\n",
      "1456.8\n",
      "ela\n"
     ]
    }
   ],
   "source": [
    "age = 45\n",
    "salary = 1456.8\n",
    "name = \"ela\"\n",
    "print(age)\n",
    "print(salary)\n",
    "print(name)"
   ]
  },
  {
   "cell_type": "code",
   "execution_count": 8,
   "id": "d4968f88-e03d-4e7f-8c8f-a24c7554816e",
   "metadata": {},
   "outputs": [],
   "source": [
    "# Variable types\n",
    "x = \"Hello World\"\n",
    "x = 50\n",
    "x = 60.5\n",
    "x = 3j\n",
    "x = [\"geeks\", \"for\", \"geeks\"]\n",
    "x = (\"geeks\", \"for\", \"geeks\")\n",
    "x = {\"name\": \"Siri\", \"age\": 23}\n",
    "x = {\"geeks\", \"for\", \"geeks\"}\n",
    "x = True\n",
    "x = b\"Geeks\""
   ]
  },
  {
   "cell_type": "code",
   "execution_count": 10,
   "id": "65c5cc2e-c1be-49d8-ab5c-56c807f5f82c",
   "metadata": {},
   "outputs": [
    {
     "name": "stdout",
     "output_type": "stream",
     "text": [
      "Please enter your name:  surabhi\n"
     ]
    },
    {
     "name": "stdout",
     "output_type": "stream",
     "text": [
      "surabhi\n"
     ]
    }
   ],
   "source": [
    "# Input example\n",
    "name = input(\"Please enter your name: \")\n",
    "print(name)"
   ]
  },
  {
   "cell_type": "code",
   "execution_count": 12,
   "id": "b5a80433-a058-4ec7-ac57-bf64f197cd93",
   "metadata": {},
   "outputs": [
    {
     "name": "stdout",
     "output_type": "stream",
     "text": [
      "15\n",
      "5\n",
      "50\n",
      "0\n",
      "100000\n"
     ]
    }
   ],
   "source": [
    "# Arithmetic operations\n",
    "a, b = 10, 5\n",
    "print(a + b, a - b, a * b, a % b, a ** b, sep='\\n')"
   ]
  },
  {
   "cell_type": "code",
   "execution_count": 14,
   "id": "06be382a-b07e-444a-af51-fa764baa1e1e",
   "metadata": {},
   "outputs": [
    {
     "name": "stdout",
     "output_type": "stream",
     "text": [
      "False\n",
      "True\n",
      "False\n"
     ]
    }
   ],
   "source": [
    "# Logical operations\n",
    "a, b = True, False\n",
    "print(a and b, a or b, not a, sep='\\n')"
   ]
  },
  {
   "cell_type": "code",
   "execution_count": 16,
   "id": "74c47c30-0940-4139-a29d-76c2c46722a2",
   "metadata": {},
   "outputs": [
    {
     "name": "stdout",
     "output_type": "stream",
     "text": [
      "0\n",
      "14\n",
      "-11\n",
      "14\n",
      "2\n",
      "40\n"
     ]
    }
   ],
   "source": [
    "# Bitwise operations\n",
    "a, b = 10, 4\n",
    "print(a & b, a | b, ~a, a ^ b, a >> 2, a << 2, sep='\\n')"
   ]
  },
  {
   "cell_type": "code",
   "execution_count": 18,
   "id": "a2adba24-82b4-44e9-bc40-94bd9ce568da",
   "metadata": {},
   "outputs": [
    {
     "name": "stdout",
     "output_type": "stream",
     "text": [
      "10\n",
      "20\n",
      "10\n",
      "100\n",
      "102400\n"
     ]
    }
   ],
   "source": [
    "# Assignment operators\n",
    "a = 10\n",
    "b = a\n",
    "print(b)\n",
    "b += a\n",
    "print(b)\n",
    "b -= a\n",
    "print(b)\n",
    "b *= a\n",
    "print(b)\n",
    "b <<= a\n",
    "print(b)"
   ]
  },
  {
   "cell_type": "code",
   "execution_count": 12,
   "id": "35838740-c412-4646-a364-aa9e74f9b8ac",
   "metadata": {},
   "outputs": [
    {
     "name": "stdout",
     "output_type": "stream",
     "text": [
      "Enter a value:  23\n"
     ]
    },
    {
     "name": "stdout",
     "output_type": "stream",
     "text": [
      "i is greater than 90\n",
      "i'm not in if and not in else Block\n"
     ]
    }
   ],
   "source": [
    "# Conditional statements\n",
    "i = int(input(\"Enter a value: \"))\n",
    "if i < 15:\n",
    "    print(\"i is smaller than 47\")\n",
    "else:\n",
    "    print(\"i is greater than 90\")\n",
    "print(\"i'm not in if and not in else Block\")"
   ]
  },
  {
   "cell_type": "code",
   "execution_count": 14,
   "id": "20eec7a4-8ab9-4847-a0e9-0819dff5c299",
   "metadata": {},
   "outputs": [
    {
     "name": "stdout",
     "output_type": "stream",
     "text": [
      "Enter a value from 10, 15, 20:  15\n"
     ]
    },
    {
     "name": "stdout",
     "output_type": "stream",
     "text": [
      "i is 15\n"
     ]
    }
   ],
   "source": [
    "i = int(input(\"Enter a value from 10, 15, 20: \"))\n",
    "if i == 10:\n",
    "    print(\"i is 10\")\n",
    "elif i == 15:\n",
    "    print(\"i is 15\")\n",
    "elif i == 20:\n",
    "    print(\"i is 20\")\n",
    "else:\n",
    "    print(\"i is not present\")"
   ]
  },
  {
   "cell_type": "code",
   "execution_count": 16,
   "id": "84b15b9a-7ee1-4954-8cc8-4fae3221bf9e",
   "metadata": {},
   "outputs": [
    {
     "name": "stdout",
     "output_type": "stream",
     "text": [
      "0\n",
      "5\n",
      "10\n",
      "15\n",
      "20\n",
      "25\n",
      "30\n",
      "35\n",
      "40\n",
      "45\n",
      "50\n",
      "55\n",
      "60\n",
      "65\n",
      "70\n",
      "75\n",
      "80\n",
      "85\n",
      "90\n",
      "95\n",
      "Hey\n",
      "Hey\n",
      "Hey\n",
      "Hey\n",
      "Hey\n"
     ]
    }
   ],
   "source": [
    "# Loops\n",
    "for i in range(0, 100, 5):\n",
    "    print(i)\n",
    "\n",
    "count = 0\n",
    "while count < 5:\n",
    "    count += 1\n",
    "    print(\"Hey\")"
   ]
  },
  {
   "cell_type": "code",
   "execution_count": 18,
   "id": "480fc735-d6f1-4373-9405-ce5152f3770a",
   "metadata": {},
   "outputs": [
    {
     "name": "stdout",
     "output_type": "stream",
     "text": [
      "65\n",
      "0b101101\n",
      "149\n",
      "s\n"
     ]
    }
   ],
   "source": [
    "# Built-in functions\n",
    "print(ord('A'), bin(45), int(0b10010101), chr(115), sep='\\n')"
   ]
  },
  {
   "cell_type": "code",
   "execution_count": 20,
   "id": "137de0df-61f1-4a81-8c12-1e3b44196620",
   "metadata": {},
   "outputs": [
    {
     "name": "stdout",
     "output_type": "stream",
     "text": [
      "4\n",
      "15\n",
      "11\n"
     ]
    }
   ],
   "source": [
    "# Bitwise and shift operations\n",
    "x, y = 14, 5\n",
    "print(x & y, x | y, x ^ y, sep='\\n')"
   ]
  },
  {
   "cell_type": "code",
   "execution_count": 22,
   "id": "4a082219-4f7d-4f57-8b05-823b5bcf2dad",
   "metadata": {},
   "outputs": [
    {
     "name": "stdout",
     "output_type": "stream",
     "text": [
      "True\n"
     ]
    }
   ],
   "source": [
    "# Comparisons\n",
    "a = 97\n",
    "b = ord('a')\n",
    "print(a == b)"
   ]
  },
  {
   "cell_type": "code",
   "execution_count": 24,
   "id": "f54bdba4-e80d-4a67-930c-8ea78bd6f23a",
   "metadata": {},
   "outputs": [
    {
     "name": "stdout",
     "output_type": "stream",
     "text": [
      "440\n",
      "13\n",
      "-56\n"
     ]
    }
   ],
   "source": [
    "# String operations\n",
    "x = 55\n",
    "print(x << 3, x >> 2, ~x, sep='\\n')"
   ]
  },
  {
   "cell_type": "code",
   "execution_count": 26,
   "id": "be80ccc2-3b80-49af-8170-e3fdf3bcb005",
   "metadata": {},
   "outputs": [
    {
     "name": "stdout",
     "output_type": "stream",
     "text": [
      "19\n",
      "08\n",
      "2023\n"
     ]
    }
   ],
   "source": [
    "# String slicing\n",
    "a = '19-08-2023'\n",
    "print(a[:2], a[3:5], a[6:], sep='\\n')"
   ]
  },
  {
   "cell_type": "code",
   "execution_count": 28,
   "id": "a6cb6964-06c5-4a7f-90e8-8748a76650ed",
   "metadata": {},
   "outputs": [
    {
     "name": "stdout",
     "output_type": "stream",
     "text": [
      "Enter a word:  hi\n"
     ]
    },
    {
     "name": "stdout",
     "output_type": "stream",
     "text": [
      "hi\n",
      "ih\n",
      "Not a palindrome\n"
     ]
    }
   ],
   "source": [
    "# Palindrome check\n",
    "word = input('Enter a word: ')\n",
    "print(word)\n",
    "print(word[::-1])\n",
    "if word == word[::-1]:\n",
    "    print('Palindrome')\n",
    "else:\n",
    "    print('Not a palindrome')"
   ]
  },
  {
   "cell_type": "code",
   "execution_count": 30,
   "id": "3e1c6b26-5109-443d-a50d-f2439617c048",
   "metadata": {},
   "outputs": [
    {
     "name": "stdout",
     "output_type": "stream",
     "text": [
      "abcxyz\n"
     ]
    }
   ],
   "source": [
    "# String concatenation and repetition\n",
    "a, b = 'abc', 'xyz'\n",
    "print(a + b)"
   ]
  },
  {
   "cell_type": "code",
   "execution_count": 38,
   "id": "ce92dabe-8117-40e9-98ec-823114d1100c",
   "metadata": {},
   "outputs": [
    {
     "name": "stdout",
     "output_type": "stream",
     "text": [
      "50544\n"
     ]
    }
   ],
   "source": [
    "b = str(544)\n",
    "print(a + b)"
   ]
  },
  {
   "cell_type": "code",
   "execution_count": 36,
   "id": "bd489f86-f897-4f14-b557-6c5a9851ce5a",
   "metadata": {},
   "outputs": [
    {
     "name": "stdout",
     "output_type": "stream",
     "text": [
      "5050505050\n"
     ]
    }
   ],
   "source": [
    "a, b = '50', 5\n",
    "print(a * b)"
   ]
  },
  {
   "cell_type": "code",
   "execution_count": 40,
   "id": "e0117726-2484-4bfa-8e88-000e3aab844e",
   "metadata": {},
   "outputs": [
    {
     "name": "stdout",
     "output_type": "stream",
     "text": [
      "True\n",
      "False\n",
      "True\n"
     ]
    }
   ],
   "source": [
    "# Substring checks\n",
    "a = 'this is pythons class'\n",
    "print(' is ' in a, 'Z' in a, 'python' in a, sep='\\n')"
   ]
  },
  {
   "cell_type": "code",
   "execution_count": 42,
   "id": "e94bca41-58e8-4df4-9449-20c724f80656",
   "metadata": {},
   "outputs": [
    {
     "name": "stdout",
     "output_type": "stream",
     "text": [
      "kython python\n"
     ]
    }
   ],
   "source": [
    "# Replace string\n",
    "a = 'python'\n",
    "print(a.replace('p', 'k'), a)"
   ]
  },
  {
   "cell_type": "code",
   "execution_count": 44,
   "id": "4cf24204-d0db-43f4-a24b-0d0251a2f412",
   "metadata": {},
   "outputs": [
    {
     "name": "stdout",
     "output_type": "stream",
     "text": [
      "This is python class\n",
      "this is python class\n",
      "THIS IS PYTHON CLASS\n",
      "This Is Python Class\n"
     ]
    }
   ],
   "source": [
    "# String methods\n",
    "a = 'tHIS is PYTHON class'\n",
    "print(a.capitalize(), a.lower(), a.upper(), a.title(), sep='\\n')"
   ]
  },
  {
   "cell_type": "code",
   "execution_count": 46,
   "id": "dd48ae21-ab60-476c-b89c-51446305a7a2",
   "metadata": {},
   "outputs": [
    {
     "name": "stdout",
     "output_type": "stream",
     "text": [
      "True\n",
      "True\n"
     ]
    }
   ],
   "source": [
    "# Starts and ends with\n",
    "a = 'hello world'\n",
    "print(a.startswith('hell'), a.endswith('rld'), sep='\\n')"
   ]
  },
  {
   "cell_type": "code",
   "execution_count": 48,
   "id": "519f7e1e-c5fd-49c5-8918-17375a00fab8",
   "metadata": {},
   "outputs": [
    {
     "name": "stdout",
     "output_type": "stream",
     "text": [
      "Akil\n",
      "alwin\n"
     ]
    }
   ],
   "source": [
    "# List filtering with startswith\n",
    "lst = ['Israr', 'Akil', 'siri', 'alwin', 'keerti', 'george']\n",
    "for i in lst:\n",
    "    if i.upper().startswith('A'):\n",
    "        print(i)"
   ]
  },
  {
   "cell_type": "code",
   "execution_count": 50,
   "id": "dcba9452-8287-4a0b-a163-0fdb330a9422",
   "metadata": {},
   "outputs": [
    {
     "name": "stdout",
     "output_type": "stream",
     "text": [
      "40\n",
      "-20\n",
      "300\n",
      "0.3333333333333333\n"
     ]
    }
   ],
   "source": [
    "a = 10\n",
    "b = 30\n",
    "print(a + b)  # Output: 40\n",
    "print(a - b)  # Output: -20\n",
    "print(a * b)  # Output: 300\n",
    "print(a / b)  # Output: 0.3333 (float division)"
   ]
  },
  {
   "cell_type": "code",
   "execution_count": 52,
   "id": "9cb610a4-4217-44b0-b84d-c04eb0d80afa",
   "metadata": {},
   "outputs": [
    {
     "name": "stdout",
     "output_type": "stream",
     "text": [
      "3\n",
      "1\n"
     ]
    }
   ],
   "source": [
    "a = 10\n",
    "b = 3\n",
    "print(a // b)  # Floor division: Output is 3\n",
    "print(a % b)   # Modulus: Output is the remainder, 1"
   ]
  },
  {
   "cell_type": "code",
   "execution_count": 54,
   "id": "4ebf41ba-936d-4315-8d94-fef2225d1e7e",
   "metadata": {},
   "outputs": [
    {
     "name": "stdout",
     "output_type": "stream",
     "text": [
      "16\n"
     ]
    }
   ],
   "source": [
    "a = 2\n",
    "b = 4\n",
    "print(a ** b)  # Exponentiation: 2^4 = 16"
   ]
  },
  {
   "cell_type": "code",
   "execution_count": 56,
   "id": "4707f5ed-a307-4fd4-afc6-be824076a55a",
   "metadata": {},
   "outputs": [
    {
     "name": "stdout",
     "output_type": "stream",
     "text": [
      "2\n",
      "1\n",
      "1\n"
     ]
    }
   ],
   "source": [
    "import math\n",
    "a = 10\n",
    "b = 7\n",
    "print(math.ceil(a / b))  # Ceiling: Smallest integer greater than or equal to result\n",
    "print(math.floor(a / b))  # Floor: Largest integer less than or equal to result\n",
    "print(round(a / b))       # Round to the nearest integer"
   ]
  },
  {
   "cell_type": "code",
   "execution_count": 58,
   "id": "7e0c4fd5-4be4-487d-bc22-684e8cd99175",
   "metadata": {},
   "outputs": [
    {
     "name": "stdout",
     "output_type": "stream",
     "text": [
      "True\n",
      "True\n",
      "False\n",
      "True\n",
      "False\n",
      "False\n"
     ]
    }
   ],
   "source": [
    "print(a > b)   # Greater than\n",
    "print(a >= b)  # Greater than or equal to\n",
    "print(a == b)  # Equality\n",
    "print(a != b)  # Not equal\n",
    "print(a < b)   # Less than\n",
    "print(a <= b)  # Less than or equal to"
   ]
  },
  {
   "cell_type": "code",
   "execution_count": 60,
   "id": "5b96fbe5-3be8-4fe1-83fb-002bf885ad33",
   "metadata": {},
   "outputs": [
    {
     "name": "stdout",
     "output_type": "stream",
     "text": [
      "False\n",
      "True\n",
      "False\n"
     ]
    }
   ],
   "source": [
    "print(True and False)  # False\n",
    "print(True or False)   # True\n",
    "print(not True)        # False"
   ]
  },
  {
   "cell_type": "code",
   "execution_count": 62,
   "id": "e90bbba3-816e-406f-8872-391f7536e8db",
   "metadata": {},
   "outputs": [
    {
     "name": "stdout",
     "output_type": "stream",
     "text": [
      "Hello World\n",
      "My name is Hello World\n",
      "My name is Hello, World\n"
     ]
    }
   ],
   "source": [
    "a = \"Hello\"\n",
    "b = \"World\"\n",
    "print(a + \" \" + b)                     # Concatenation\n",
    "print(f\"My name is {a} {b}\")           # f-string\n",
    "print(\"My name is {}, {}\".format(a, b))  # .format method"
   ]
  },
  {
   "cell_type": "code",
   "execution_count": 66,
   "id": "b6240106-d6cc-47fe-a9e1-0f8727a58b34",
   "metadata": {},
   "outputs": [
    {
     "name": "stdout",
     "output_type": "stream",
     "text": [
      "Enter a number:  54\n"
     ]
    },
    {
     "name": "stdout",
     "output_type": "stream",
     "text": [
      "<class 'int'>\n"
     ]
    }
   ],
   "source": [
    "a = input(\"Enter a number: \")  # Always returns a string\n",
    "b = int(a)                     # Convert string to integer\n",
    "print(type(b))"
   ]
  },
  {
   "cell_type": "code",
   "execution_count": 70,
   "id": "ba3dcef9-c1f9-4c36-a7a2-b33dce31771e",
   "metadata": {},
   "outputs": [
    {
     "name": "stdout",
     "output_type": "stream",
     "text": [
      "Enter a number:  76\n"
     ]
    },
    {
     "name": "stdout",
     "output_type": "stream",
     "text": [
      "15\n"
     ]
    }
   ],
   "source": [
    "a = eval(input(\"Enter a number: \"))  # Evaluates the input as a Python expression\n",
    "b = eval(\"5 + 10\")\n",
    "print(b)  # Output: 15"
   ]
  },
  {
   "cell_type": "code",
   "execution_count": 72,
   "id": "71268fab-88d8-44a1-bc6e-936456abad51",
   "metadata": {},
   "outputs": [
    {
     "name": "stdout",
     "output_type": "stream",
     "text": [
      "32\n"
     ]
    }
   ],
   "source": [
    "x = 8\n",
    "print(x << 2)  # Shift bits of `x` two places to the left: 8 * 2^2 = 32"
   ]
  },
  {
   "cell_type": "code",
   "execution_count": 74,
   "id": "336b4896-b9d6-483d-8507-f99be1884648",
   "metadata": {},
   "outputs": [
    {
     "name": "stdout",
     "output_type": "stream",
     "text": [
      "32\n"
     ]
    }
   ],
   "source": [
    "print(int(0b100000))  # Convert binary to decimal: 32"
   ]
  },
  {
   "cell_type": "code",
   "execution_count": null,
   "id": "137d76e3-3d9d-40b2-a533-ea0e5e9f356f",
   "metadata": {},
   "outputs": [],
   "source": []
  }
 ],
 "metadata": {
  "kernelspec": {
   "display_name": "Python 3 (ipykernel)",
   "language": "python",
   "name": "python3"
  },
  "language_info": {
   "codemirror_mode": {
    "name": "ipython",
    "version": 3
   },
   "file_extension": ".py",
   "mimetype": "text/x-python",
   "name": "python",
   "nbconvert_exporter": "python",
   "pygments_lexer": "ipython3",
   "version": "3.11.7"
  },
  "widgets": {
   "application/vnd.jupyter.widget-state+json": {
    "state": {},
    "version_major": 2,
    "version_minor": 0
   }
  }
 },
 "nbformat": 4,
 "nbformat_minor": 5
}
