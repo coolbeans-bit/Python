{
 "cells": [
  {
   "cell_type": "code",
   "execution_count": null,
   "id": "7fd4f8c5",
   "metadata": {},
   "outputs": [],
   "source": [
    "- Conditional statements\n",
    "- Loops (While , Keywords(Break , continue , pass))"
   ]
  },
  {
   "cell_type": "markdown",
   "id": "d16a972a",
   "metadata": {},
   "source": [
    "# Conditional statements"
   ]
  },
  {
   "cell_type": "code",
   "execution_count": null,
   "id": "ead84067",
   "metadata": {},
   "outputs": [],
   "source": [
    "if --> else\n",
    "\n",
    "\n",
    "if --> elif ---> else"
   ]
  },
  {
   "cell_type": "code",
   "execution_count": null,
   "id": "406533f3",
   "metadata": {},
   "outputs": [],
   "source": [
    "stat1\n",
    "stat2\n",
    "if condition:\n",
    "    stat3\n",
    "    stat4\n",
    "\n",
    "stat5\n",
    "stat6"
   ]
  },
  {
   "cell_type": "code",
   "execution_count": null,
   "id": "5abcab5f",
   "metadata": {},
   "outputs": [],
   "source": [
    "stat1\n",
    "stat2\n",
    "if condition:\n",
    "    stat3\n",
    "    stat4\n",
    "else:\n",
    "    stat7\n",
    "    stat8\n",
    "stat5\n",
    "stat6\n",
    "\n",
    "\n",
    "1,2,3,4,5,6\n",
    "1,2,7,8,5,6"
   ]
  },
  {
   "cell_type": "code",
   "execution_count": null,
   "id": "5e8b65cf",
   "metadata": {},
   "outputs": [],
   "source": [
    "stat1\n",
    "stat2\n",
    "if condition 1:\n",
    "    stat3\n",
    "    stat4\n",
    "elif condition 2:\n",
    "    stat9\n",
    "    stat10\n",
    "elif condition 3:\n",
    "    stat11\n",
    "    stat12\n",
    "else:\n",
    "    stat7\n",
    "    stat8\n",
    "stat5\n",
    "stat6\n",
    "\n"
   ]
  },
  {
   "cell_type": "code",
   "execution_count": 87,
   "id": "acc977b4",
   "metadata": {},
   "outputs": [
    {
     "name": "stdout",
     "output_type": "stream",
     "text": [
      "Python\n",
      "Big data\n",
      "Big data\n",
      "Post gress\n"
     ]
    }
   ],
   "source": [
    "a = 10\n",
    "b = 20\n",
    "\n",
    "if a < b:\n",
    "    print('Python')\n",
    "    \n",
    "if a > b:\n",
    "    print('JAVA')\n",
    "else:\n",
    "    print('Big data')\n",
    "    \n",
    "if a == b:\n",
    "    print('SQL')\n",
    "else:\n",
    "    print('Big data')\n",
    "print(\"Post gress\")"
   ]
  },
  {
   "cell_type": "code",
   "execution_count": 88,
   "id": "1c4cd435",
   "metadata": {},
   "outputs": [
    {
     "name": "stdout",
     "output_type": "stream",
     "text": [
      "Python\n",
      "Post gress\n"
     ]
    }
   ],
   "source": [
    "a = 10\n",
    "b = 20\n",
    "\n",
    "if a < b: # T\n",
    "    print('Python')\n",
    "    \n",
    "elif a > b: # F\n",
    "    print('JAVA')   \n",
    "elif a != b: # T\n",
    "    print('SQL')\n",
    "else:\n",
    "    print('Big data')\n",
    "    \n",
    "print(\"Post gress\")"
   ]
  },
  {
   "cell_type": "markdown",
   "id": "7e692ce9",
   "metadata": {},
   "source": [
    "# Nested condition"
   ]
  },
  {
   "cell_type": "code",
   "execution_count": null,
   "id": "5978d9aa",
   "metadata": {},
   "outputs": [],
   "source": [
    "stat1\n",
    "\n",
    "if condition 1:\n",
    "    stat2\n",
    "    if condition 2:\n",
    "        stat3\n",
    "    else:\n",
    "        stat4"
   ]
  },
  {
   "cell_type": "code",
   "execution_count": 99,
   "id": "a2e73bb2",
   "metadata": {},
   "outputs": [
    {
     "name": "stdout",
     "output_type": "stream",
     "text": [
      "Python\n",
      "SQL\n"
     ]
    }
   ],
   "source": [
    "print('Python')\n",
    "\n",
    "if 10 < 20:\n",
    "    print('SQL')\n",
    "else:\n",
    "    print('Hello world')"
   ]
  },
  {
   "cell_type": "code",
   "execution_count": 1,
   "id": "644c1155",
   "metadata": {},
   "outputs": [
    {
     "name": "stdout",
     "output_type": "stream",
     "text": [
      "Python\n",
      "Pyspark\n"
     ]
    }
   ],
   "source": [
    "print('Python')\n",
    "\n",
    "if 10 > 20:\n",
    "    print('SQL')\n",
    "elif 10 < 20:\n",
    "    print('Pyspark')\n",
    "else:\n",
    "    print('Hello world')"
   ]
  },
  {
   "cell_type": "code",
   "execution_count": 4,
   "id": "d2f6a9c5",
   "metadata": {},
   "outputs": [],
   "source": [
    "re = 'SQL' if 10 > 20  else 'Pyspark' if 10 < 20  else 'Hello world'"
   ]
  },
  {
   "cell_type": "code",
   "execution_count": 5,
   "id": "615cc26e",
   "metadata": {},
   "outputs": [
    {
     "data": {
      "text/plain": [
       "'Pyspark'"
      ]
     },
     "execution_count": 5,
     "metadata": {},
     "output_type": "execute_result"
    }
   ],
   "source": [
    "re"
   ]
  },
  {
   "cell_type": "code",
   "execution_count": 161,
   "id": "58940afc",
   "metadata": {},
   "outputs": [
    {
     "name": "stdout",
     "output_type": "stream",
     "text": [
      "Enter a op*\n",
      "2\n"
     ]
    }
   ],
   "source": [
    "n1=1\n",
    "n2=2\n",
    "op = input('Enter a op')\n",
    "dictop = {\n",
    "    '+' : n1+n2,\n",
    "    '-':n1-n2,\n",
    "    '*' : n1*n2,\n",
    "    '/':n1/n2,\n",
    "     'add' : n1+n2,\n",
    "    'sub':n1-n2,\n",
    "    'mul' : n1*n2,\n",
    "    'div':n1/n2\n",
    "    \n",
    "}\n",
    "\n",
    "\n",
    "if op in dictop:\n",
    "    print(dictop[op])\n",
    "else:\n",
    "    print('Invalid')"
   ]
  },
  {
   "cell_type": "code",
   "execution_count": null,
   "id": "27162322",
   "metadata": {},
   "outputs": [],
   "source": [
    "a=eval(input(\"enter first number\"))\n",
    "b=eval(input(\"enter 2nd number\"))\n",
    "c=input(\"enter operator\")\n",
    "\n",
    "if(c==\"*\" or c==\"mul\"):\n",
    "    print(a*b)\n",
    "elif(c==\"+\" or c==\"add\"):\n",
    "    print(a+b)\n",
    "elif(c==\"-\" or c==\"sub\"):\n",
    "    print(a-b)\n",
    "elif(c==\"/\" or c==\"div\"):\n",
    "    print(a/b)\n",
    "else:\n",
    "    print('Invalid op')"
   ]
  },
  {
   "cell_type": "markdown",
   "id": "2a1f6c91",
   "metadata": {},
   "source": [
    "# Loops"
   ]
  },
  {
   "cell_type": "code",
   "execution_count": null,
   "id": "6d3b03ec",
   "metadata": {},
   "outputs": [],
   "source": [
    "# For loop --> For fixed iteration\n",
    "\n",
    "syntax\n",
    "\n",
    "for var in iterable:\n",
    "    stat1\n",
    "    stat2"
   ]
  },
  {
   "cell_type": "code",
   "execution_count": null,
   "id": "2b709021",
   "metadata": {},
   "outputs": [],
   "source": [
    "# While loop --> You dont know the no of iterations\n",
    "\n",
    "1. initialization\n",
    "2. condition checking\n",
    "3. inc / dec"
   ]
  },
  {
   "cell_type": "code",
   "execution_count": 175,
   "id": "23feaec2",
   "metadata": {},
   "outputs": [
    {
     "name": "stdout",
     "output_type": "stream",
     "text": [
      "hello world\n",
      "hello world\n",
      "hello world\n",
      "hello world\n",
      "hello world\n",
      "hello world\n",
      "hello world\n"
     ]
    }
   ],
   "source": [
    "i = 0 # initialization\n",
    "\n",
    "while i <=6: # condition checking\n",
    "    print('hello world')\n",
    "    i += 1"
   ]
  },
  {
   "cell_type": "code",
   "execution_count": 178,
   "id": "fc707be2",
   "metadata": {},
   "outputs": [
    {
     "name": "stdout",
     "output_type": "stream",
     "text": [
      "p\n",
      "yy\n",
      "ttt\n",
      "hhhh\n",
      "ooooo\n",
      "nnnnnn\n"
     ]
    }
   ],
   "source": [
    "a = 'python'\n",
    "# p\n",
    "# yy\n",
    "# ttt\n",
    "# hhhh\n",
    "# ooooo\n",
    "# nnnnnn\n",
    "\n",
    "print(a[0] * 1)\n",
    "print(a[1] * 2)\n",
    "print(a[2] * 3)\n",
    "print(a[3] * 4)\n",
    "print(a[4] * 5)\n",
    "print(a[5] * 6)"
   ]
  },
  {
   "cell_type": "code",
   "execution_count": 182,
   "id": "ae6f9c20",
   "metadata": {},
   "outputs": [
    {
     "name": "stdout",
     "output_type": "stream",
     "text": [
      "p\n",
      "yy\n",
      "ttt\n",
      "hhhh\n",
      "ooooo\n",
      "nnnnnn\n"
     ]
    }
   ],
   "source": [
    "for i in range(len(a)):      #for i in range(6):\n",
    "    print(a[i] * (i+1))"
   ]
  },
  {
   "cell_type": "code",
   "execution_count": 187,
   "id": "04d23719",
   "metadata": {},
   "outputs": [
    {
     "name": "stdout",
     "output_type": "stream",
     "text": [
      "p\n",
      "yy\n",
      "ttt\n",
      "hhhh\n",
      "ooooo\n",
      "nnnnnn\n"
     ]
    }
   ],
   "source": [
    "i = 1\n",
    "\n",
    "while i <= len(a):\n",
    "    print(a[i-1] * i)\n",
    "    i +=1"
   ]
  },
  {
   "cell_type": "code",
   "execution_count": 188,
   "id": "7b9becb8",
   "metadata": {},
   "outputs": [
    {
     "name": "stdout",
     "output_type": "stream",
     "text": [
      "p\n",
      "y\n",
      "t\n",
      "h\n",
      "o\n",
      "n\n"
     ]
    }
   ],
   "source": [
    "for i in a:\n",
    "    print(i)"
   ]
  },
  {
   "cell_type": "markdown",
   "id": "bb7aed52",
   "metadata": {},
   "source": [
    "# Break , continue , pass"
   ]
  },
  {
   "cell_type": "code",
   "execution_count": 206,
   "id": "288728b4",
   "metadata": {},
   "outputs": [
    {
     "name": "stdout",
     "output_type": "stream",
     "text": [
      "0\n",
      "1\n",
      "2\n",
      "3\n",
      "Loop completed\n"
     ]
    }
   ],
   "source": [
    "for i in range(10):\n",
    "    if i == 4:\n",
    "        break\n",
    "    print(i)\n",
    "    \n",
    "print('Loop completed')"
   ]
  },
  {
   "cell_type": "markdown",
   "id": "3e4d3216",
   "metadata": {},
   "source": [
    "# Continue\n",
    "\n",
    "- Only break the current iteration"
   ]
  },
  {
   "cell_type": "markdown",
   "id": "704f09d7",
   "metadata": {},
   "source": [
    "# Pass"
   ]
  },
  {
   "cell_type": "code",
   "execution_count": null,
   "id": "6a1b6399",
   "metadata": {},
   "outputs": [],
   "source": [
    "break and continue --> loops"
   ]
  },
  {
   "cell_type": "code",
   "execution_count": 7,
   "id": "6ea405bc",
   "metadata": {},
   "outputs": [
    {
     "name": "stdout",
     "output_type": "stream",
     "text": [
      "V1 Fa\n",
      "V1 Fb\n",
      "V2 Fc\n",
      "V1 Fd\n",
      "Loop completed\n"
     ]
    }
   ],
   "source": [
    "lst = ['a' , 'b' , 'c' , 'd']\n",
    "for i in lst:\n",
    "    if i == 'a':\n",
    "        print('V1 Fa')\n",
    "    if i == 'b':\n",
    "        print('V1 Fb')\n",
    "    if i == 'c':\n",
    "        pass\n",
    "    if i == 'd':\n",
    "        print('V1 Fd')\n",
    "    if i == 'c':\n",
    "        print('V2 Fc')\n",
    "\n",
    "print('Loop completed')"
   ]
  },
  {
   "cell_type": "code",
   "execution_count": 221,
   "id": "44109a39",
   "metadata": {},
   "outputs": [
    {
     "name": "stdout",
     "output_type": "stream",
     "text": [
      "V1 Fa\n",
      "V1 Fb\n",
      "V1 Fd\n",
      "Loop completed\n"
     ]
    }
   ],
   "source": [
    "lst = ['a' , 'b' , 'c' , 'd']\n",
    "for i in lst:\n",
    "    if i == 'a':\n",
    "        print('V1 Fa')\n",
    "    if i == 'b':\n",
    "        print('V1 Fb')\n",
    "    if i == 'c':\n",
    "        continue\n",
    "    if i == 'd':\n",
    "        print('V1 Fd')\n",
    "    if i == 'c':\n",
    "        print('V2 Fc')\n",
    "\n",
    "print('Loop completed')"
   ]
  },
  {
   "cell_type": "code",
   "execution_count": 222,
   "id": "6403f92a",
   "metadata": {},
   "outputs": [
    {
     "name": "stdout",
     "output_type": "stream",
     "text": [
      "V1 Fa\n",
      "V1 Fb\n",
      "Loop completed\n"
     ]
    }
   ],
   "source": [
    "lst = ['a' , 'b' , 'c' , 'd']\n",
    "\n",
    "\n",
    "for i in lst:\n",
    "    if i == 'a':\n",
    "        print('V1 Fa')\n",
    "    if i == 'b':\n",
    "        print('V1 Fb')\n",
    "    if i == 'c':\n",
    "        break\n",
    "    if i == 'd':\n",
    "        print('V1 Fd')\n",
    "    if i == 'c':\n",
    "        print('V2 Fc')\n",
    "\n",
    "print('Loop completed')"
   ]
  },
  {
   "cell_type": "code",
   "execution_count": 231,
   "id": "4ca6428a",
   "metadata": {},
   "outputs": [
    {
     "name": "stdout",
     "output_type": "stream",
     "text": [
      "Enter amount90000\n",
      "Exceeds limit, Do you would like to Retry\n",
      "y/ny\n",
      "Enter amount6000\n",
      "Amount transfered\n"
     ]
    }
   ],
   "source": [
    "while True :\n",
    "    amount =eval(input('Enter amount'))\n",
    "    if amount < 50000 :\n",
    "        print(\"Amount transfered\")\n",
    "        break\n",
    "    else :\n",
    "        print(\"Exceeds limit, Do you would like to Retry\")\n",
    "        i = input ('y/n')\n",
    "        if i == 'y':\n",
    "            continue\n",
    "        else:\n",
    "            print(\"Thank you\")\n",
    "            break"
   ]
  }
 ],
 "metadata": {
  "kernelspec": {
   "display_name": "Python 3 (ipykernel)",
   "language": "python",
   "name": "python3"
  },
  "language_info": {
   "codemirror_mode": {
    "name": "ipython",
    "version": 3
   },
   "file_extension": ".py",
   "mimetype": "text/x-python",
   "name": "python",
   "nbconvert_exporter": "python",
   "pygments_lexer": "ipython3",
   "version": "3.11.7"
  }
 },
 "nbformat": 4,
 "nbformat_minor": 5
}
