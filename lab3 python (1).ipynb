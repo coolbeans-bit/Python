{
 "cells": [
  {
   "cell_type": "markdown",
   "id": "5a588476-8800-4258-9800-3ca0c618aca0",
   "metadata": {},
   "source": [
    "### Lab 3\n",
    "### Siddhi Subhedar \n",
    "### PRN : 1262240621"
   ]
  },
  {
   "cell_type": "code",
   "execution_count": 32,
   "id": "fc474d95-684a-4fc5-a198-ba00cc6f31a4",
   "metadata": {},
   "outputs": [
    {
     "name": "stdout",
     "output_type": "stream",
     "text": [
      "28\n"
     ]
    }
   ],
   "source": [
    "# open file in read mode\n",
    "\n",
    "f = open('pythonlab3.txt' , 'r')\n",
    "content = f.read()\n",
    "print(f.tell())"
   ]
  },
  {
   "cell_type": "code",
   "execution_count": 34,
   "id": "5a55082b-1809-4d07-a77f-b7fc8720208d",
   "metadata": {},
   "outputs": [
    {
     "name": "stdout",
     "output_type": "stream",
     "text": [
      "0\n"
     ]
    }
   ],
   "source": [
    "# open file in write mode\n",
    "\n",
    "f = open('pythonlab3.txt' , 'w')\n",
    "print(f.tell())"
   ]
  },
  {
   "cell_type": "code",
   "execution_count": 36,
   "id": "f4cfe590-36a3-41d3-b7f8-29942f9be187",
   "metadata": {},
   "outputs": [
    {
     "name": "stdout",
     "output_type": "stream",
     "text": [
      "0\n"
     ]
    }
   ],
   "source": [
    "# open file in append mode\n",
    "\n",
    "f = open('pythonlab3.txt' , 'a')\n",
    "print(f.tell())"
   ]
  },
  {
   "cell_type": "code",
   "execution_count": 38,
   "id": "d8eedec8-20a7-4ef3-8c76-7c1fb96c4f5b",
   "metadata": {},
   "outputs": [
    {
     "name": "stdout",
     "output_type": "stream",
     "text": [
      "curser position after opening file: 0\n",
      "\n",
      "curser position after reading file: 0\n"
     ]
    }
   ],
   "source": [
    "# open file using with open in read mode\n",
    "\n",
    "with open('pythonlab3.txt' , 'r') as f:\n",
    "    print(f\"curser position after opening file: {f.tell()}\")\n",
    "    print(f.read())\n",
    "    print(f\"curser position after reading file: {f.tell()}\")"
   ]
  },
  {
   "cell_type": "code",
   "execution_count": 40,
   "id": "17715244-c250-45a3-b343-be3ae250d833",
   "metadata": {},
   "outputs": [
    {
     "name": "stdout",
     "output_type": "stream",
     "text": [
      "curser position after opening file: 0\n",
      "curser position after writing file: 47\n"
     ]
    }
   ],
   "source": [
    "# open file in write mode and write to file\n",
    "\n",
    "with open('pythonlab3.txt' , 'w') as f:\n",
    "    print(f\"curser position after opening file: {f.tell()}\")\n",
    "    f.write(\"Hello. We are learning file handling in python.\")\n",
    "    print(f\"curser position after writing file: {f.tell()}\")"
   ]
  },
  {
   "cell_type": "code",
   "execution_count": 42,
   "id": "67b5dc8a-f444-40a7-b698-f8ec09dceaab",
   "metadata": {},
   "outputs": [
    {
     "name": "stdout",
     "output_type": "stream",
     "text": [
      "curser position after opening file: 0\n",
      "Hello. We are learning file handling in python.\n",
      "curser position after reading file: 47\n"
     ]
    }
   ],
   "source": [
    "# read write_mode.txt \n",
    "\n",
    "with open('pythonlab3.txt' , 'r') as f:\n",
    "    print(f\"curser position after opening file: {f.tell()}\")\n",
    "    print(f.read())\n",
    "    print(f\"curser position after reading file: {f.tell()}\")\n"
   ]
  },
  {
   "cell_type": "code",
   "execution_count": 46,
   "id": "0a6cc0e4-5342-4419-aa4d-0f2c444304d1",
   "metadata": {},
   "outputs": [
    {
     "name": "stdout",
     "output_type": "stream",
     "text": [
      "curser position after seeking: 14\n",
      "learning file handling in python.\n",
      "curser position after reading file: 47\n"
     ]
    }
   ],
   "source": [
    "# read from a specified position\n",
    "\n",
    "with open('pythonlab3.txt' , 'r') as f:\n",
    "    f.seek(14)\n",
    "    print(f\"curser position after seeking: {f.tell()}\")\n",
    "    print(f.read())\n",
    "    print(f\"curser position after reading file: {f.tell()}\")"
   ]
  },
  {
   "cell_type": "code",
   "execution_count": 48,
   "id": "9ba969bb-ebb9-4955-94b9-862112f9be1b",
   "metadata": {},
   "outputs": [
    {
     "name": "stdout",
     "output_type": "stream",
     "text": [
      "curser position after opening file: 0\n",
      "curser position after seeking: 14\n",
      "Hello. We are trying to learn file handling in python\n",
      "curser position after reading file: 53\n"
     ]
    }
   ],
   "source": [
    "# open file in r+ (read and write mode) => can overwrite data from specified position\n",
    "\n",
    "with open('pythonlab3.txt' , 'r+') as f:\n",
    "    print(f\"curser position after opening file: {f.tell()}\")\n",
    "    f.seek(14)\n",
    "    print(f\"curser position after seeking: {f.tell()}\")\n",
    "    f.write(\"trying to learn file handling in python\")\n",
    "    f.seek(0)\n",
    "    print(f.read())\n",
    "    print(f\"curser position after reading file: {f.tell()}\")"
   ]
  },
  {
   "cell_type": "code",
   "execution_count": 50,
   "id": "b2e5a898-8851-4a4d-8851-6dd979cfec55",
   "metadata": {},
   "outputs": [
    {
     "name": "stdout",
     "output_type": "stream",
     "text": [
      "curser position after opening file: 0\n",
      "Hello. We are trying to learn file handling in python\n",
      "curser position after reading file: 53\n"
     ]
    }
   ],
   "source": [
    "# print contents of write_mode.txt\n",
    "\n",
    "with open('pythonlab3.txt' , 'r') as f:\n",
    "    print(f\"curser position after opening file: {f.tell()}\")\n",
    "    print(f.read())\n",
    "    print(f\"curser position after reading file: {f.tell()}\")"
   ]
  },
  {
   "cell_type": "code",
   "execution_count": 52,
   "id": "b8c62e1e-39fd-4893-aa0b-642c487a053c",
   "metadata": {},
   "outputs": [
    {
     "name": "stdout",
     "output_type": "stream",
     "text": [
      "curser position after opening file: 53\n",
      "curser position after reading file: 100\n"
     ]
    }
   ],
   "source": [
    "# open file in append mode \n",
    "\n",
    "with open('pythonlab3.txt' , 'a') as f:\n",
    "    print(f\"curser position after opening file: {f.tell()}\")\n",
    "    f.write(\"Hello. We are learning file handling in python.\")\n",
    "    print(f\"curser position after reading file: {f.tell()}\")"
   ]
  },
  {
   "cell_type": "code",
   "execution_count": 54,
   "id": "eb748f37-3acc-464e-82bf-452df71f807d",
   "metadata": {},
   "outputs": [
    {
     "name": "stdout",
     "output_type": "stream",
     "text": [
      "curser position after opening file: 100\n",
      "curser position after reading file: 133\n"
     ]
    }
   ],
   "source": [
    "# write at the end of the file\n",
    "\n",
    "with open('pythonlab3.txt' , 'a') as f:\n",
    "    print(f\"curser position after opening file: {f.tell()}\")\n",
    "    f.write(\"We are learning about file modes.\")\n",
    "    print(f\"curser position after reading file: {f.tell()}\")"
   ]
  },
  {
   "cell_type": "code",
   "execution_count": 66,
   "id": "9f16411a-1a9f-4b1a-8152-8bf25a85250d",
   "metadata": {},
   "outputs": [
    {
     "name": "stdout",
     "output_type": "stream",
     "text": [
      "curser position after opening file: 0\n",
      "Today wow, i am sad!y\n",
      "curser position after reading file: 21\n"
     ]
    }
   ],
   "source": [
    "# open file in w+ (write and read mode) => overwrite entire data\n",
    "# overwrite currently written data from specified position\n",
    "\n",
    "with open('pythonlab3.txt' , 'w+') as f:\n",
    "    print(f\"curser position after opening file: {f.tell()}\")\n",
    "    f.write(\"Today is the good day\")\n",
    "    f.seek(6)\n",
    "    f.write(\"wow, i am sad!\")\n",
    "    f.seek(0)\n",
    "    print(f.read())\n",
    "    print(f\"curser position after reading file: {f.tell()}\")"
   ]
  },
  {
   "cell_type": "code",
   "execution_count": 68,
   "id": "5c3d2602-2ddc-4d5c-9183-a6727e8e80d0",
   "metadata": {},
   "outputs": [
    {
     "name": "stdout",
     "output_type": "stream",
     "text": [
      "Today wow, i am sad!y\n"
     ]
    }
   ],
   "source": [
    "# different ways to read data from file \n",
    "\"\"\"\n",
    "read() ---> reads the whole content from the current position\n",
    "read(char) --> reads the specified number of characters from the current position\n",
    "readline() --> Read only the current line from the current position\n",
    "readlines() ---> Read the complete data and returns a list where line element is 1 element of a list\n",
    "\"\"\"\n",
    "\n",
    "with open('pythonlab3.txt' , 'r') as f:\n",
    "    print(f.read())\n",
    "    \n"
   ]
  },
  {
   "cell_type": "code",
   "execution_count": 70,
   "id": "c8b4d1cd-33bb-40fa-96f4-b1fbf11707a0",
   "metadata": {},
   "outputs": [
    {
     "name": "stdout",
     "output_type": "stream",
     "text": [
      "Today wow, i am sad!y\n"
     ]
    }
   ],
   "source": [
    "with open('pythonlab3.txt' , 'r') as f:\n",
    "    print(f.readline())"
   ]
  },
  {
   "cell_type": "code",
   "execution_count": 72,
   "id": "7cc63944-cdca-4a38-81a7-bdf007ec7bd1",
   "metadata": {},
   "outputs": [
    {
     "name": "stdout",
     "output_type": "stream",
     "text": [
      "['Today wow, i am sad!y']\n"
     ]
    }
   ],
   "source": [
    "with open('pythonlab3.txt' , 'r') as f:\n",
    "    print(f.readlines())"
   ]
  },
  {
   "cell_type": "code",
   "execution_count": 74,
   "id": "9f78660f-7194-4aca-8dd6-9e1ef00aaec1",
   "metadata": {},
   "outputs": [
    {
     "name": "stdout",
     "output_type": "stream",
     "text": [
      "Today\n"
     ]
    }
   ],
   "source": [
    "with open('pythonlab3.txt' , 'r') as f:\n",
    "    print(f.read(5))"
   ]
  },
  {
   "cell_type": "code",
   "execution_count": null,
   "id": "841d5aa8-a28d-47a2-a4c6-220cc1fe0da5",
   "metadata": {},
   "outputs": [],
   "source": []
  }
 ],
 "metadata": {
  "kernelspec": {
   "display_name": "Python 3 (ipykernel)",
   "language": "python",
   "name": "python3"
  },
  "language_info": {
   "codemirror_mode": {
    "name": "ipython",
    "version": 3
   },
   "file_extension": ".py",
   "mimetype": "text/x-python",
   "name": "python",
   "nbconvert_exporter": "python",
   "pygments_lexer": "ipython3",
   "version": "3.11.7"
  },
  "widgets": {
   "application/vnd.jupyter.widget-state+json": {
    "state": {},
    "version_major": 2,
    "version_minor": 0
   }
  }
 },
 "nbformat": 4,
 "nbformat_minor": 5
}
